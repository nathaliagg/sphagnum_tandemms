{
 "cells": [
  {
   "cell_type": "markdown",
   "metadata": {},
   "source": [
    "# Import libraries"
   ]
  },
  {
   "cell_type": "code",
   "execution_count": 1,
   "metadata": {},
   "outputs": [],
   "source": [
    "import pandas as pd\n",
    "import numpy as np\n",
    "import os"
   ]
  },
  {
   "cell_type": "markdown",
   "metadata": {},
   "source": [
    "# Feature Correspondence"
   ]
  },
  {
   "cell_type": "code",
   "execution_count": 2,
   "metadata": {
    "scrolled": false
   },
   "outputs": [
    {
     "name": "stdout",
     "output_type": "stream",
     "text": [
      "(2213, 4)\n"
     ]
    },
    {
     "data": {
      "text/html": [
       "<div>\n",
       "<style scoped>\n",
       "    .dataframe tbody tr th:only-of-type {\n",
       "        vertical-align: middle;\n",
       "    }\n",
       "\n",
       "    .dataframe tbody tr th {\n",
       "        vertical-align: top;\n",
       "    }\n",
       "\n",
       "    .dataframe thead th {\n",
       "        text-align: right;\n",
       "    }\n",
       "</style>\n",
       "<table border=\"1\" class=\"dataframe\">\n",
       "  <thead>\n",
       "    <tr style=\"text-align: right;\">\n",
       "      <th></th>\n",
       "      <th>Control-T1</th>\n",
       "      <th>Control-TF</th>\n",
       "      <th>Inoculum-T1</th>\n",
       "      <th>Inoculum-TF</th>\n",
       "    </tr>\n",
       "    <tr>\n",
       "      <th>Features</th>\n",
       "      <th></th>\n",
       "      <th></th>\n",
       "      <th></th>\n",
       "      <th></th>\n",
       "    </tr>\n",
       "  </thead>\n",
       "  <tbody>\n",
       "    <tr>\n",
       "      <th>FT0001</th>\n",
       "      <td>184778.727451</td>\n",
       "      <td>528966.910945</td>\n",
       "      <td>1.142983e+06</td>\n",
       "      <td>2.431455e+06</td>\n",
       "    </tr>\n",
       "    <tr>\n",
       "      <th>FT0002</th>\n",
       "      <td>137987.282315</td>\n",
       "      <td>272723.765382</td>\n",
       "      <td>5.581681e+04</td>\n",
       "      <td>4.200892e+05</td>\n",
       "    </tr>\n",
       "    <tr>\n",
       "      <th>FT0003</th>\n",
       "      <td>3513.988896</td>\n",
       "      <td>7862.624275</td>\n",
       "      <td>9.350261e+03</td>\n",
       "      <td>5.004950e+04</td>\n",
       "    </tr>\n",
       "    <tr>\n",
       "      <th>FT0004</th>\n",
       "      <td>68978.419273</td>\n",
       "      <td>82935.024448</td>\n",
       "      <td>5.022064e+04</td>\n",
       "      <td>6.244603e+05</td>\n",
       "    </tr>\n",
       "    <tr>\n",
       "      <th>FT0005</th>\n",
       "      <td>175146.487757</td>\n",
       "      <td>10430.641971</td>\n",
       "      <td>2.014648e+05</td>\n",
       "      <td>5.875561e+06</td>\n",
       "    </tr>\n",
       "  </tbody>\n",
       "</table>\n",
       "</div>"
      ],
      "text/plain": [
       "             Control-T1     Control-TF   Inoculum-T1   Inoculum-TF\n",
       "Features                                                          \n",
       "FT0001    184778.727451  528966.910945  1.142983e+06  2.431455e+06\n",
       "FT0002    137987.282315  272723.765382  5.581681e+04  4.200892e+05\n",
       "FT0003      3513.988896    7862.624275  9.350261e+03  5.004950e+04\n",
       "FT0004     68978.419273   82935.024448  5.022064e+04  6.244603e+05\n",
       "FT0005    175146.487757   10430.641971  2.014648e+05  5.875561e+06"
      ]
     },
     "execution_count": 2,
     "metadata": {},
     "output_type": "execute_result"
    }
   ],
   "source": [
    "fcorr = pd.read_csv('../1_preprocessing/featureCorrespondence.csv')\n",
    "\n",
    "fcorr.rename(columns={\"Unnamed: 0\":'Features'}, inplace=True)\n",
    "\n",
    "features = fcorr[['Features']]\n",
    "\n",
    "fcorr['Features'] = features\n",
    "\n",
    "fcorr.set_index('Features', inplace=True)\n",
    "\n",
    "print(fcorr.shape)\n",
    "\n",
    "fcorr.head()"
   ]
  },
  {
   "cell_type": "markdown",
   "metadata": {},
   "source": [
    "# Only MS2\n",
    "\n",
    "`featureCorrespondence.csv` all the features (== MS1), but all of them had an MS2.\n",
    "\n",
    "Normally, I'll do this step after the MS2 annotation, but for this tutorial, we'll only work with the features that have MS2."
   ]
  },
  {
   "cell_type": "code",
   "execution_count": 3,
   "metadata": {
    "scrolled": false
   },
   "outputs": [
    {
     "name": "stdout",
     "output_type": "stream",
     "text": [
      "186\n"
     ]
    },
    {
     "data": {
      "text/plain": [
       "['FT0002', 'FT0005', 'FT0044', 'FT0072', 'FT0076']"
      ]
     },
     "execution_count": 3,
     "metadata": {},
     "output_type": "execute_result"
    }
   ],
   "source": [
    "list_ms2 = open('../1_preprocessing/ms2spectra_consensus.mgf', 'r').read().split('\\n')\n",
    "list_ms2 = [x.split('=')[-1] for x in list_ms2 if x.startswith('TITLE')]\n",
    "print(len(list_ms2))\n",
    "list_ms2[:5]"
   ]
  },
  {
   "cell_type": "markdown",
   "metadata": {},
   "source": [
    "## Filter "
   ]
  },
  {
   "cell_type": "code",
   "execution_count": 9,
   "metadata": {},
   "outputs": [
    {
     "name": "stdout",
     "output_type": "stream",
     "text": [
      "(186, 4)\n",
      "(88, 4)\n"
     ]
    },
    {
     "data": {
      "text/html": [
       "<div>\n",
       "<style scoped>\n",
       "    .dataframe tbody tr th:only-of-type {\n",
       "        vertical-align: middle;\n",
       "    }\n",
       "\n",
       "    .dataframe tbody tr th {\n",
       "        vertical-align: top;\n",
       "    }\n",
       "\n",
       "    .dataframe thead th {\n",
       "        text-align: right;\n",
       "    }\n",
       "</style>\n",
       "<table border=\"1\" class=\"dataframe\">\n",
       "  <thead>\n",
       "    <tr style=\"text-align: right;\">\n",
       "      <th></th>\n",
       "      <th>Control-T1</th>\n",
       "      <th>Control-TF</th>\n",
       "      <th>Inoculum-T1</th>\n",
       "      <th>Inoculum-TF</th>\n",
       "    </tr>\n",
       "    <tr>\n",
       "      <th>Features</th>\n",
       "      <th></th>\n",
       "      <th></th>\n",
       "      <th></th>\n",
       "      <th></th>\n",
       "    </tr>\n",
       "  </thead>\n",
       "  <tbody>\n",
       "    <tr>\n",
       "      <th>FT0005</th>\n",
       "      <td>5.243404</td>\n",
       "      <td>4.018353</td>\n",
       "      <td>5.304201</td>\n",
       "      <td>6.769049</td>\n",
       "    </tr>\n",
       "    <tr>\n",
       "      <th>FT0072</th>\n",
       "      <td>3.364210</td>\n",
       "      <td>0.000000</td>\n",
       "      <td>0.000000</td>\n",
       "      <td>5.757312</td>\n",
       "    </tr>\n",
       "    <tr>\n",
       "      <th>FT0544</th>\n",
       "      <td>3.998755</td>\n",
       "      <td>3.555098</td>\n",
       "      <td>6.930440</td>\n",
       "      <td>3.779091</td>\n",
       "    </tr>\n",
       "    <tr>\n",
       "      <th>FT0772</th>\n",
       "      <td>5.995259</td>\n",
       "      <td>4.043930</td>\n",
       "      <td>5.790801</td>\n",
       "      <td>3.521604</td>\n",
       "    </tr>\n",
       "    <tr>\n",
       "      <th>FT0822</th>\n",
       "      <td>4.674981</td>\n",
       "      <td>4.608105</td>\n",
       "      <td>4.823483</td>\n",
       "      <td>6.937902</td>\n",
       "    </tr>\n",
       "  </tbody>\n",
       "</table>\n",
       "</div>"
      ],
      "text/plain": [
       "          Control-T1  Control-TF  Inoculum-T1  Inoculum-TF\n",
       "Features                                                  \n",
       "FT0005      5.243404    4.018353     5.304201     6.769049\n",
       "FT0072      3.364210    0.000000     0.000000     5.757312\n",
       "FT0544      3.998755    3.555098     6.930440     3.779091\n",
       "FT0772      5.995259    4.043930     5.790801     3.521604\n",
       "FT0822      4.674981    4.608105     4.823483     6.937902"
      ]
     },
     "execution_count": 9,
     "metadata": {},
     "output_type": "execute_result"
    }
   ],
   "source": [
    "fcorr_ms2 = fcorr.copy()\n",
    "\n",
    "fcorr_ms2 = fcorr_ms2.reset_index()\n",
    "\n",
    "fcorr_ms2 = fcorr_ms2[fcorr_ms2['Features'].isin(list_ms2)]\n",
    "\n",
    "fcorr_ms2 = fcorr_ms2.set_index('Features')\n",
    "\n",
    "fcorr_ms2 = fcorr_ms2.replace(np.nan, 0)\n",
    "\n",
    "## log transform\n",
    "fcorr_ms2 = np.log10(fcorr_ms2+1)\n",
    "\n",
    "print(fcorr_ms2.shape)\n",
    "\n",
    "## filter rows that have variance == 0; will cause issues in the PCA\n",
    "fcorr_ms2 = fcorr_ms2[fcorr_ms2.var(axis=1).astype(int) > 0.0]\n",
    "\n",
    "print(fcorr_ms2.shape)\n",
    "\n",
    "fcorr_ms2.to_csv('featureCorrespondence_MS2.csv')\n",
    "\n",
    "fcorr_ms2.head()"
   ]
  },
  {
   "cell_type": "code",
   "execution_count": 10,
   "metadata": {},
   "outputs": [
    {
     "data": {
      "text/plain": [
       "Control-T1     0.000000\n",
       "Control-TF     0.000000\n",
       "Inoculum-T1    6.425827\n",
       "Inoculum-TF    6.256760\n",
       "Name: FT2069, dtype: float64"
      ]
     },
     "execution_count": 10,
     "metadata": {},
     "output_type": "execute_result"
    }
   ],
   "source": [
    "fcorr_ms2.loc['FT2069', :]"
   ]
  },
  {
   "cell_type": "code",
   "execution_count": null,
   "metadata": {},
   "outputs": [],
   "source": []
  }
 ],
 "metadata": {
  "kernelspec": {
   "display_name": "Python 3",
   "language": "python",
   "name": "python3"
  },
  "language_info": {
   "codemirror_mode": {
    "name": "ipython",
    "version": 3
   },
   "file_extension": ".py",
   "mimetype": "text/x-python",
   "name": "python",
   "nbconvert_exporter": "python",
   "pygments_lexer": "ipython3",
   "version": "3.9.0"
  },
  "toc": {
   "base_numbering": 1,
   "nav_menu": {},
   "number_sections": false,
   "sideBar": true,
   "skip_h1_title": false,
   "title_cell": "Table of Contents",
   "title_sidebar": "Contents",
   "toc_cell": false,
   "toc_position": {},
   "toc_section_display": true,
   "toc_window_display": false
  },
  "varInspector": {
   "cols": {
    "lenName": 16,
    "lenType": 16,
    "lenVar": 40
   },
   "kernels_config": {
    "python": {
     "delete_cmd_postfix": "",
     "delete_cmd_prefix": "del ",
     "library": "var_list.py",
     "varRefreshCmd": "print(var_dic_list())"
    },
    "r": {
     "delete_cmd_postfix": ") ",
     "delete_cmd_prefix": "rm(",
     "library": "var_list.r",
     "varRefreshCmd": "cat(var_dic_list()) "
    }
   },
   "types_to_exclude": [
    "module",
    "function",
    "builtin_function_or_method",
    "instance",
    "_Feature"
   ],
   "window_display": false
  }
 },
 "nbformat": 4,
 "nbformat_minor": 2
}
