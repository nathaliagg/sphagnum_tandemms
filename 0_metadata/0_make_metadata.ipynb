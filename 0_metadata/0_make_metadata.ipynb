{
 "cells": [
  {
   "cell_type": "markdown",
   "metadata": {},
   "source": [
    "Import libraries"
   ]
  },
  {
   "cell_type": "code",
   "execution_count": 1,
   "metadata": {},
   "outputs": [],
   "source": [
    "import pandas as pd\n",
    "import numpy as np\n",
    "import glob"
   ]
  },
  {
   "cell_type": "markdown",
   "metadata": {},
   "source": [
    "Glob list of `.mzXML` files, make dataframe"
   ]
  },
  {
   "cell_type": "code",
   "execution_count": 7,
   "metadata": {
    "scrolled": true
   },
   "outputs": [
    {
     "name": "stdout",
     "output_type": "stream",
     "text": [
      "n files =  4\n"
     ]
    },
    {
     "data": {
      "text/html": [
       "<div>\n",
       "<style scoped>\n",
       "    .dataframe tbody tr th:only-of-type {\n",
       "        vertical-align: middle;\n",
       "    }\n",
       "\n",
       "    .dataframe tbody tr th {\n",
       "        vertical-align: top;\n",
       "    }\n",
       "\n",
       "    .dataframe thead th {\n",
       "        text-align: right;\n",
       "    }\n",
       "</style>\n",
       "<table border=\"1\" class=\"dataframe\">\n",
       "  <thead>\n",
       "    <tr style=\"text-align: right;\">\n",
       "      <th></th>\n",
       "      <th>FileName</th>\n",
       "      <th>SampleCode</th>\n",
       "      <th>Treatment</th>\n",
       "      <th>Time</th>\n",
       "    </tr>\n",
       "  </thead>\n",
       "  <tbody>\n",
       "    <tr>\n",
       "      <th>0</th>\n",
       "      <td>Control-T1.mzXML</td>\n",
       "      <td>Control-T1</td>\n",
       "      <td>Control</td>\n",
       "      <td>Tinitial</td>\n",
       "    </tr>\n",
       "    <tr>\n",
       "      <th>1</th>\n",
       "      <td>Control-TF.mzXML</td>\n",
       "      <td>Control-TF</td>\n",
       "      <td>Control</td>\n",
       "      <td>Tfinal</td>\n",
       "    </tr>\n",
       "    <tr>\n",
       "      <th>2</th>\n",
       "      <td>Inoculum-T1.mzXML</td>\n",
       "      <td>Inoculum-T1</td>\n",
       "      <td>Inoculum</td>\n",
       "      <td>Tinitial</td>\n",
       "    </tr>\n",
       "    <tr>\n",
       "      <th>3</th>\n",
       "      <td>Inoculum-TF.mzXML</td>\n",
       "      <td>Inoculum-TF</td>\n",
       "      <td>Inoculum</td>\n",
       "      <td>Tfinal</td>\n",
       "    </tr>\n",
       "  </tbody>\n",
       "</table>\n",
       "</div>"
      ],
      "text/plain": [
       "            FileName   SampleCode Treatment      Time\n",
       "0   Control-T1.mzXML   Control-T1   Control  Tinitial\n",
       "1   Control-TF.mzXML   Control-TF   Control    Tfinal\n",
       "2  Inoculum-T1.mzXML  Inoculum-T1  Inoculum  Tinitial\n",
       "3  Inoculum-TF.mzXML  Inoculum-TF  Inoculum    Tfinal"
      ]
     },
     "execution_count": 7,
     "metadata": {},
     "output_type": "execute_result"
    }
   ],
   "source": [
    "list_files = glob.glob('../raw_data_mzxml/*.mzXML')\n",
    "list_files = [(x.split('/')[-1], x.split('/')[-1][:-6]) for x in list_files]\n",
    "\n",
    "print('n files = ', len(list_files))\n",
    "\n",
    "phenodata = pd.DataFrame(list_files, columns =['FileName', 'SampleCode']) \n",
    "phenodata['Treatment'] = phenodata['SampleCode'].str.split('-').str[0] \n",
    "phenodata['Time'] = phenodata['SampleCode'].str.split('-').str[1] \n",
    "phenodata['Time'] = phenodata['Time'].replace(['T1', 'TF'], ['Tinitial', 'Tfinal'])\n",
    "\n",
    "phenodata.to_csv('phenotypic_data.csv', index=False)\n",
    "phenodata.head()"
   ]
  },
  {
   "cell_type": "code",
   "execution_count": 22,
   "metadata": {},
   "outputs": [],
   "source": []
  },
  {
   "cell_type": "code",
   "execution_count": null,
   "metadata": {},
   "outputs": [],
   "source": []
  }
 ],
 "metadata": {
  "kernelspec": {
   "display_name": "Python 3",
   "language": "python",
   "name": "python3"
  },
  "language_info": {
   "codemirror_mode": {
    "name": "ipython",
    "version": 3
   },
   "file_extension": ".py",
   "mimetype": "text/x-python",
   "name": "python",
   "nbconvert_exporter": "python",
   "pygments_lexer": "ipython3",
   "version": "3.9.0"
  },
  "toc": {
   "base_numbering": 1,
   "nav_menu": {},
   "number_sections": true,
   "sideBar": true,
   "skip_h1_title": false,
   "title_cell": "Table of Contents",
   "title_sidebar": "Contents",
   "toc_cell": false,
   "toc_position": {},
   "toc_section_display": true,
   "toc_window_display": false
  },
  "varInspector": {
   "cols": {
    "lenName": 16,
    "lenType": 16,
    "lenVar": 40
   },
   "kernels_config": {
    "python": {
     "delete_cmd_postfix": "",
     "delete_cmd_prefix": "del ",
     "library": "var_list.py",
     "varRefreshCmd": "print(var_dic_list())"
    },
    "r": {
     "delete_cmd_postfix": ") ",
     "delete_cmd_prefix": "rm(",
     "library": "var_list.r",
     "varRefreshCmd": "cat(var_dic_list()) "
    }
   },
   "types_to_exclude": [
    "module",
    "function",
    "builtin_function_or_method",
    "instance",
    "_Feature"
   ],
   "window_display": false
  }
 },
 "nbformat": 4,
 "nbformat_minor": 2
}
